{
 "cells": [
  {
   "cell_type": "code",
   "execution_count": 1,
   "metadata": {},
   "outputs": [],
   "source": [
    "import os\n",
    "import json\n",
    "import pandas as pd"
   ]
  },
  {
   "cell_type": "code",
   "execution_count": 6,
   "metadata": {},
   "outputs": [],
   "source": [
    "\n",
    "file_path = '../../data/OIG-smallchip2-ko.json'\n",
    "\n",
    "json_data = []\n",
    "with open(file_path, 'r') as f:\n",
    "    for line in f:\n",
    "        json_data.append(json.loads(line))\n"
   ]
  },
  {
   "cell_type": "code",
   "execution_count": 7,
   "metadata": {},
   "outputs": [
    {
     "data": {
      "text/plain": [
       "'<usr> 돔형 천장, 기둥 및 문이 있는 맨션 내부의 우울한 장면에 대한 상세한 서면 설명을 생성합니다.\\n<bot> 원형 모양의 바닥은 완전히 정사각형으로 자른 검은색 대리석으로 만들어졌습니다. 크고 검게 칠해진 대리석 기둥이 벽을 따라 늘어서 있고 머리 위로 높은 돔형 유리 천장으로 끝납니다. 방 저편의 좁은 틈은 그 아래에 미스글린 도금된 문이 있는 탁 트인 계단통으로 이어집니다.'"
      ]
     },
     "execution_count": 7,
     "metadata": {},
     "output_type": "execute_result"
    }
   ],
   "source": [
    "json_data[2]['text']"
   ]
  }
 ],
 "metadata": {
  "kernelspec": {
   "display_name": "LeeYS",
   "language": "python",
   "name": "python3"
  },
  "language_info": {
   "codemirror_mode": {
    "name": "ipython",
    "version": 3
   },
   "file_extension": ".py",
   "mimetype": "text/x-python",
   "name": "python",
   "nbconvert_exporter": "python",
   "pygments_lexer": "ipython3",
   "version": "3.9.0"
  }
 },
 "nbformat": 4,
 "nbformat_minor": 2
}
